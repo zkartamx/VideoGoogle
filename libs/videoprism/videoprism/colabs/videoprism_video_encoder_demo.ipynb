{
  "cells": [
    {
      "metadata": {
        "id": "KPPUiCpSbm53"
      },
      "cell_type": "markdown",
      "source": [
        "# VideoPrism Video Encoder Demo\n",
        "\n",
        "[![Paper](https://img.shields.io/badge/arXiv-2402.13217-red.svg)](https://arxiv.org/abs/2402.13217)\n",
        "[![Blog](https://img.shields.io/badge/Google_Research-Blog-green.svg)](https://research.google/blog/videoprism-a-foundational-visual-encoder-for-video-understanding/)\n",
        "[![License](https://img.shields.io/badge/License-Apache%202.0-blue.svg)](https://opensource.org/licenses/Apache-2.0)\n",
        "\n",
        "This notebook provides an example of video feature extraction with a pre-trained VideoPrism video encoder.\n",
        "\n",
        "Please run this demo on Google Colab with (faster) or without TPU."
      ]
    },
    {
      "metadata": {
        "id": "k08qFZ9-cn9v"
      },
      "cell_type": "markdown",
      "source": [
        "## Set up"
      ]
    },
    {
      "metadata": {
        "id": "1dfyX8EyVsvL"
      },
      "cell_type": "code",
      "source": [
        "# @title Prepare environment\n",
        "\n",
        "import os\n",
        "import sys\n",
        "\n",
        "# Fetch VideoPrism repository if Python does not know about it and install\n",
        "# dependencies needed for this notebook.\n",
        "if not os.path.exists(\"videoprism_repo\"):\n",
        "  !git clone --quiet --branch=main --depth=1 \\\n",
        "     https://github.com/google-deepmind/videoprism.git videoprism_repo\n",
        "  os.chdir('./videoprism_repo')\n",
        "  !pip install .\n",
        "  os.chdir('..')\n",
        "\n",
        "# Append VideoPrism code to Python import path.\n",
        "if \"videoprism_repo\" not in sys.path:\n",
        "  sys.path.append(\"videoprism_repo\")\n",
        "\n",
        "# Install missing dependencies.\n",
        "!pip install mediapy\n",
        "\n",
        "import jax\n",
        "from jax.extend import backend\n",
        "import tensorflow as tf\n",
        "\n",
        "# Do not let TF use the GPU or TPUs.\n",
        "tf.config.set_visible_devices([], \"GPU\")\n",
        "tf.config.set_visible_devices([], \"TPU\")\n",
        "\n",
        "print(f\"JAX version:  {jax.__version__}\")\n",
        "print(f\"JAX platform: {backend.get_backend().platform}\")\n",
        "print(f\"JAX devices:  {jax.device_count()}\")"
      ],
      "outputs": [],
      "execution_count": null
    },
    {
      "metadata": {
        "id": "zByA1K0IVKAI"
      },
      "cell_type": "code",
      "source": [
        "# @title Load dependencies and define utilities\n",
        "\n",
        "import mediapy\n",
        "import numpy as np\n",
        "from PIL import Image\n",
        "\n",
        "\n",
        "def read_and_preprocess_video(\n",
        "    filename: str, target_num_frames: int, target_frame_size: tuple[int, int]\n",
        "):\n",
        "  \"\"\"Reads and preprocesses a video.\"\"\"\n",
        "\n",
        "  frames = mediapy.read_video(filename)\n",
        "\n",
        "  # Sample to target number of frames.\n",
        "  frame_indices = np.linspace(\n",
        "      0, len(frames), num=target_num_frames, endpoint=False, dtype=np.int32\n",
        "  )\n",
        "  frames = np.array([frames[i] for i in frame_indices])\n",
        "\n",
        "  # Resize to target size.\n",
        "  original_height, original_width = frames.shape[-3:-1]\n",
        "  target_height, target_width = target_frame_size\n",
        "  assert (\n",
        "      original_height * target_width == original_width * target_height\n",
        "  ), 'Currently does not support aspect ratio mismatch.'\n",
        "  frames = mediapy.resize_video(frames, shape=target_frame_size)\n",
        "\n",
        "  # Normalize pixel values to [0.0, 1.0].\n",
        "  frames = mediapy.to_float01(frames)\n",
        "\n",
        "  return frames"
      ],
      "outputs": [],
      "execution_count": null
    },
    {
      "metadata": {
        "id": "WnYuzSgrXCL1"
      },
      "cell_type": "code",
      "source": [
        "# @title Load model\n",
        "\n",
        "import jax\n",
        "import jax.numpy as jnp\n",
        "from videoprism import models as vp\n",
        "\n",
        "# Models available: ['videoprism_public_v1_base', 'videoprism_public_v1_large']\n",
        "MODEL_NAME = 'videoprism_public_v1_base'\n",
        "NUM_FRAMES = 16\n",
        "FRAME_SIZE = 288\n",
        "\n",
        "flax_model = vp.MODELS[MODEL_NAME]()\n",
        "loaded_state = vp.load_pretrained_weights(MODEL_NAME)\n",
        "\n",
        "\n",
        "@jax.jit\n",
        "def forward_fn(inputs, train=False):\n",
        "  return flax_model.apply(loaded_state, inputs, train=train)"
      ],
      "outputs": [],
      "execution_count": null
    },
    {
      "metadata": {
        "id": "AliScLC0jo1s"
      },
      "cell_type": "markdown",
      "source": [
        "# Example: Video feature extraction\n",
        "\n",
        "In this example, we extract the spatiotemporal embeddings of an example video."
      ]
    },
    {
      "metadata": {
        "id": "kLzkhP8CYUYj"
      },
      "cell_type": "code",
      "source": [
        "VIDEO_FILE_PATH = (\n",
        "    './videoprism_repo/videoprism/assets/water_bottle_drumming.mp4'\n",
        ")\n",
        "frames = read_and_preprocess_video(\n",
        "    VIDEO_FILE_PATH,\n",
        "    target_num_frames=NUM_FRAMES,\n",
        "    target_frame_size=[FRAME_SIZE, FRAME_SIZE],\n",
        ")\n",
        "mediapy.show_video(frames, fps=6.0)\n",
        "\n",
        "frames = jnp.asarray(frames[None, ...])  # Add batch dimension.\n",
        "print(f'Input shape: {frames.shape}')\n",
        "\n",
        "embeddings, _ = forward_fn(frames)\n",
        "print(f'Encoded embedding shape: {embeddings.shape}')\n"
      ],
      "outputs": [],
      "execution_count": null
    }
  ],
  "metadata": {
    "colab": {
      "provenance": [],
      "gpuType": "V28"
    },
    "kernelspec": {
      "name": "python3",
      "display_name": "Python 3"
    },
    "language_info": {
      "name": "python"
    },
    "accelerator": "TPU"
  },
  "nbformat": 4,
  "nbformat_minor": 0
}
